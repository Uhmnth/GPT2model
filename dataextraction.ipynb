from datasets import load_dataset

# Load the BookCorpus dataset
dataset = load_dataset("bookcorpus")

# Access the train split
train_dataset = dataset['train']

# Extract 300,000 rows
num_samples = 300000
limited_train_dataset = train_dataset.select(range(num_samples))

# Print the first sample to verify
print(limited_train_dataset[0])

# Save the extracted data to a local file (optional)
output_file = "bookcorpus_300k.txt"

with open(output_file, "w", encoding="utf-8") as f:
    for sample in limited_train_dataset:
        f.write(sample['text'] + "\n")

print(f"Extracted data saved to {output_file}")
